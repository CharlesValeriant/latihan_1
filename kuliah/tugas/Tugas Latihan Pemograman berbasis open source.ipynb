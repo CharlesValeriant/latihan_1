{
 "cells": [
  {
   "cell_type": "code",
   "execution_count": 1,
   "id": "b19d253e",
   "metadata": {},
   "outputs": [
    {
     "name": "stdout",
     "output_type": "stream",
     "text": [
      "========Info KTP========================\n",
      "Nama : Charles Valeriant Welson Jono\n",
      "Tempat/Tgl Lahir : Pontianak, 07 SEPTEMBER 2002\n",
      "Jenis kelamin : Laki-Laki\n",
      "Gol Darah : AB\n",
      "Jenis kelamin : Laki-Laki\n",
      "Alamat : JL.Khairil Anwar NO.35\n",
      "RT/RW : 003/027\n",
      "Kel/Desa : BENUA MELAYU DARAT\n",
      "Kecamatan : Pontianak Selatan\n",
      "Agama : Buddha\n",
      "Status Perkawinan :Belum Menikah\n",
      "Pekerjaan : Pelajar/Mahasiswa\n",
      "Kewarganegaraan : WNI\n",
      "Berlaku Hingga : Seumur Hidup\n",
      "========================================\n"
     ]
    }
   ],
   "source": [
    "\n",
    "Nama = \"Charles Valeriant Welson Jono\"\n",
    "Tempat_Tgl_Lahir =\"Pontianak, 07 SEPTEMBER 2002\"\n",
    "Jenis_kelamin=\"Laki-Laki\"\n",
    "Gol_Darah =\"AB\"\n",
    "Alamat = \"JL.Khairil Anwar NO.35\"\n",
    "RT_RW =\"003/027\"\n",
    "Kel_Desa = \"BENUA MELAYU DARAT\"\n",
    "Kecamatan = \"Pontianak Selatan\"\n",
    "Agama = \"Buddha\"\n",
    "Menikah = False \n",
    "Pekerjaan =\"Pelajar/Mahasiswa\"\n",
    "Kewarganegaraan = \"WNI\"\n",
    "Berlaku_Hingga =\"Seumur Hidup\"\n",
    "#cetak Info KTP\n",
    "print(\"========Info KTP========================\")\n",
    "print(\"Nama :\",Nama)\n",
    "print(\"Tempat/Tgl Lahir :\",Tempat_Tgl_Lahir)\n",
    "print(\"Jenis kelamin :\",Jenis_kelamin)\n",
    "print(\"Gol Darah :\",Gol_Darah)\n",
    "print(\"Jenis kelamin :\",Jenis_kelamin)\n",
    "print(\"Alamat :\",Alamat)\n",
    "print(\"RT/RW :\",RT_RW)\n",
    "print(\"Kel/Desa :\",Kel_Desa)\n",
    "print(\"Kecamatan :\",Kecamatan)\n",
    "print(\"Agama :\",Agama)\n",
    "if (Menikah):\n",
    "        print(\"Status Perkawinan :\",Menikah)\n",
    "else:\n",
    "        print(\"Status Perkawinan :Belum Menikah\")\n",
    "print(\"Pekerjaan :\",Pekerjaan)\n",
    "print(\"Kewarganegaraan :\",Kewarganegaraan)\n",
    "print(\"Berlaku Hingga :\",Berlaku_Hingga)\n",
    "print(\"========================================\")"
   ]
  },
  {
   "cell_type": "code",
   "execution_count": 16,
   "id": "17328419",
   "metadata": {},
   "outputs": [
    {
     "name": "stdout",
     "output_type": "stream",
     "text": [
      "===============INFO SIM===========\n",
      "1.  CHARLES VALERIANT WELSON JONO\n",
      "2.  PONTIANAK, 07 SEPTEMBER 2002\n",
      "3.  AB - PRIA\n",
      "4.  JL.KHAIRIL ANWAR NO.35\n",
      "5.  PELAJAR/MAHASISWA\n",
      "6.  POLDA\n",
      "==================================\n"
     ]
    }
   ],
   "source": [
    "nama = \"CHARLES VALERIANT WELSON JONO\"\n",
    "Tempat_Tgl_Lahir =\"PONTIANAK, 07 SEPTEMBER 2002\"\n",
    "Gol_Darah =\"AB\"\n",
    "Jenis_kelamin=\"PRIA\"\n",
    "Alamat = \"JL.KHAIRIL ANWAR NO.35\"\n",
    "Pekerjaan =\"PELAJAR/MAHASISWA\"\n",
    "Alamat_Produksi =\"POLDA\"\n",
    "#CETAK SIM\n",
    "print(\"===============INFO SIM===========\")\n",
    "print(\"1. \",nama)\n",
    "print(\"2. \",Tempat_Tgl_Lahir)\n",
    "print(\"3. \",Gol_Darah, \"-\", Jenis_kelamin)\n",
    "print(\"4. \",Alamat)\n",
    "print(\"5. \",Pekerjaan)\n",
    "print(\"6. \",Alamat_Produksi)\n",
    "print(\"==================================\")"
   ]
  },
  {
   "cell_type": "code",
   "execution_count": 14,
   "id": "24931842",
   "metadata": {},
   "outputs": [
    {
     "name": "stdout",
     "output_type": "stream",
     "text": [
      "=========CV=============\n",
      "CHARLES VALERIANT WELSON\n",
      "JL. GAJAH MADA 28 NO.35\n",
      "087842******\n",
      "cha*******.**@gmail.com\n",
      "========================\n",
      "TENTANG SAYA :\n",
      "Saya adalah anak ke-2 dari 3 bersaudara. Saya pernah meraih juara 2 umum saat masih SD. Saya  juga sering mengikuti perlomba-an olahraga seperti basket. mendapatkan berbagai juara dalam bidang tersebut\n",
      "========================\n",
      "PENDIDIKAN :\n",
      "* SD KARYA YOSEF, PONTIANAK LULUSAN TAHUN TAHUN 2014\n",
      "* SMP BRUDER PONTIANAK, PONTIANAK LULUSAN TAHUN 2017\n",
      "* SMA SANTO PAULUS PONTIANAK, PONTIANAK LULUSAN TAHUN 2020\n",
      "========================\n",
      "KEAHLIAN DAN HOBI :\n",
      "* Olahraga = Ahli , Komputer = Pelajar , Alat Musik = ahli\n",
      "* Olahraga, Travelling, Gaming, Progaming\n",
      "========================\n"
     ]
    }
   ],
   "source": [
    "nama = \"CHARLES VALERIANT WELSON\"\n",
    "Alamat = \"JL. GAJAH MADA 28 NO.35\"\n",
    "NO_HP = \"087842******\"\n",
    "GMail = \"cha*******.**@gmail.com\"\n",
    "Ijasah_SD = \"* SD KARYA YOSEF, PONTIANAK LULUSAN TAHUN TAHUN 2014\"\n",
    "Ijasah_SMP = \"* SMP BRUDER PONTIANAK, PONTIANAK LULUSAN TAHUN 2017\"\n",
    "Ijasah_SMA= \"* SMA SANTO PAULUS PONTIANAK, PONTIANAK LULUSAN TAHUN 2020\"\n",
    "Keahlian = \"* Olahraga = Ahli , Komputer = Pelajar , Alat Musik = ahli\"\n",
    "Tentang_saya = \"\"\"Saya adalah anak ke-2 dari 3 bersaudara. Saya pernah meraih juara 2 umum saat masih SD. Saya  juga sering mengikuti perlomba-an olahraga seperti basket. mendapatkan berbagai juara dalam bidang tersebut\"\"\"\n",
    "Hobi =\"* Olahraga, Travelling, Gaming, Progaming\"\n",
    "#CETAK CV\n",
    "print(\"=========CV=============\")\n",
    "print(nama)\n",
    "print(Alamat)\n",
    "print(NO_HP)\n",
    "print(GMail)\n",
    "print(\"========================\")\n",
    "print(\"TENTANG SAYA :\")\n",
    "print(Tentang_saya)\n",
    "print(\"========================\")\n",
    "print(\"PENDIDIKAN :\")\n",
    "print(Ijasah_SD)\n",
    "print(Ijasah_SMP)\n",
    "print(Ijasah_SMA)\n",
    "print(\"========================\")\n",
    "print(\"KEAHLIAN DAN HOBI :\")\n",
    "print(Keahlian)\n",
    "print(Hobi)\n",
    "print(\"========================\")\n",
    "\n",
    "\n"
   ]
  },
  {
   "cell_type": "code",
   "execution_count": null,
   "id": "0e8d647e",
   "metadata": {},
   "outputs": [],
   "source": []
  }
 ],
 "metadata": {
  "kernelspec": {
   "display_name": "Python 3",
   "language": "python",
   "name": "python3"
  },
  "language_info": {
   "codemirror_mode": {
    "name": "ipython",
    "version": 3
   },
   "file_extension": ".py",
   "mimetype": "text/x-python",
   "name": "python",
   "nbconvert_exporter": "python",
   "pygments_lexer": "ipython3",
   "version": "3.8.8"
  }
 },
 "nbformat": 4,
 "nbformat_minor": 5
}
